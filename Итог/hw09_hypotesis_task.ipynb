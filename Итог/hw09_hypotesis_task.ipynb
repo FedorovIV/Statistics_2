{
 "cells": [
  {
   "cell_type": "markdown",
   "metadata": {},
   "source": [
    "<center>\n",
    "<img src=\"logo.png\" height=\"900\"> \n",
    "</center>\n",
    "\n",
    "\n",
    "# Много гипотез"
   ]
  },
  {
   "cell_type": "markdown",
   "metadata": {},
   "source": [
    "В этом домашнем задании мы будем проверять гипотезы. Всего в этой лабораторной работе $7$ задач. "
   ]
  },
  {
   "cell_type": "code",
   "execution_count": 1,
   "metadata": {},
   "outputs": [],
   "source": [
    "import numpy as np\n",
    "import pandas as pd\n",
    "\n",
    "from scipy import stats as sts\n",
    "\n",
    "import seaborn as sns\n",
    "import matplotlib.pyplot as plt\n",
    "\n",
    "plt.style.use('ggplot')\n",
    "%matplotlib inline"
   ]
  },
  {
   "cell_type": "markdown",
   "metadata": {},
   "source": [
    "## Задание 1 (мудрость)\n",
    "\n",
    "> Помните, что для человека звук его имени является самым сладким и самым важным звуком человеческой речи. (Дейл Карнеги)\n",
    "\n",
    "Доверяй, но проверяй. Решим задачку по психологии! Все цитаты в пабликах вконтакте делятся на два вида: мудрые и недостаточно мудрые. Если цитата мудрая, то её можно лайкнуть. Поговаривают, что если в цитате есть личные местоимения, то пользователь автоматически сопоставляет себя автору этой цитаты и вероятность того, что она будет лайкнута, повышается. Например, цитату \n",
    "\n",
    "> Можно простить человеку все, кроме отсутствия. (Экзюпери) \n",
    "\n",
    "мне не очень хотелось бы лайкать. А вот цитата \n",
    "\n",
    "> Мне наплевать, что вы обо мне думаете. Я о вас вообще не думаю. (Булгаков) \n",
    "\n",
    "совершенно другое дело. \n",
    "\n",
    "В табличке `df_vk_wise` лежат данные о мудрых цитатах из [мудрого паблика.](https://vk.com/ooioioioioioo) В колонке `I` находится переменная, которая принимает значение `True`, когда в тексте цитаты было личное местоимение \"Я\".\n",
    "\n",
    "Срежем первые $50$ постов, так как под ними количество репостов и лайков ещё окончательно не выставлено, и будем работать с остатками. "
   ]
  },
  {
   "cell_type": "code",
   "execution_count": 16,
   "metadata": {},
   "outputs": [
    {
     "data": {
      "text/html": [
       "<div>\n",
       "<style scoped>\n",
       "    .dataframe tbody tr th:only-of-type {\n",
       "        vertical-align: middle;\n",
       "    }\n",
       "\n",
       "    .dataframe tbody tr th {\n",
       "        vertical-align: top;\n",
       "    }\n",
       "\n",
       "    .dataframe thead th {\n",
       "        text-align: right;\n",
       "    }\n",
       "</style>\n",
       "<table border=\"1\" class=\"dataframe\">\n",
       "  <thead>\n",
       "    <tr style=\"text-align: right;\">\n",
       "      <th></th>\n",
       "      <th>likes</th>\n",
       "      <th>reposts</th>\n",
       "      <th>text</th>\n",
       "      <th>I</th>\n",
       "    </tr>\n",
       "  </thead>\n",
       "  <tbody>\n",
       "    <tr>\n",
       "      <th>50</th>\n",
       "      <td>549</td>\n",
       "      <td>25</td>\n",
       "      <td>Я, говорит, люблю человечество, но дивлюсь на ...</td>\n",
       "      <td>True</td>\n",
       "    </tr>\n",
       "    <tr>\n",
       "      <th>51</th>\n",
       "      <td>607</td>\n",
       "      <td>22</td>\n",
       "      <td>Нельзя любить то, что я люблю, да ещё так, как...</td>\n",
       "      <td>True</td>\n",
       "    </tr>\n",
       "    <tr>\n",
       "      <th>52</th>\n",
       "      <td>914</td>\n",
       "      <td>37</td>\n",
       "      <td>Если испытываешь по-настоящему глубокое чувств...</td>\n",
       "      <td>False</td>\n",
       "    </tr>\n",
       "    <tr>\n",
       "      <th>53</th>\n",
       "      <td>989</td>\n",
       "      <td>34</td>\n",
       "      <td>— Я тебя люблю, — сказал я. \\n— Это пройдет, —...</td>\n",
       "      <td>True</td>\n",
       "    </tr>\n",
       "    <tr>\n",
       "      <th>54</th>\n",
       "      <td>1229</td>\n",
       "      <td>32</td>\n",
       "      <td>Он очаровательно рассказывает мне о том, как о...</td>\n",
       "      <td>False</td>\n",
       "    </tr>\n",
       "  </tbody>\n",
       "</table>\n",
       "</div>"
      ],
      "text/plain": [
       "    likes  reposts                                               text      I\n",
       "50    549       25  Я, говорит, люблю человечество, но дивлюсь на ...   True\n",
       "51    607       22  Нельзя любить то, что я люблю, да ещё так, как...   True\n",
       "52    914       37  Если испытываешь по-настоящему глубокое чувств...  False\n",
       "53    989       34  — Я тебя люблю, — сказал я. \\n— Это пройдет, —...   True\n",
       "54   1229       32  Он очаровательно рассказывает мне о том, как о...  False"
      ]
     },
     "execution_count": 16,
     "metadata": {},
     "output_type": "execute_result"
    }
   ],
   "source": [
    "df = pd.read_csv('./data/df_vk_wise.csv')[50:]\n",
    "df.head()"
   ]
  },
  {
   "cell_type": "markdown",
   "metadata": {},
   "source": [
    "Постройте гистограмму для числа лайков постов, содержащих личные местоимения и не содержащих. Как думаете, есть ли с распределением лайков какие-то проблемы?"
   ]
  },
  {
   "cell_type": "code",
   "execution_count": null,
   "metadata": {
    "deletable": false,
    "nbgrader": {
     "cell_type": "code",
     "checksum": "3959fa2c8afbb37a435b22f39831c1b4",
     "grade": false,
     "grade_id": "cell-5b1acf05ccd983b3",
     "locked": false,
     "schema_version": 3,
     "solution": true,
     "task": false
    }
   },
   "outputs": [
    {
     "data": {
      "image/png": "[encoded data removed]",
      "text/plain": [
       "<Figure size 1200x600 with 1 Axes>"
      ]
     },
     "metadata": {},
     "output_type": "display_data"
    }
   ],
   "source": [
    "\n",
    "plt.figure(figsize=(12, 6))\n",
    "sns.histplot(data=df[df['I'] == True], x='likes', color='blue', label='С местоимениями', kde=True)\n",
    "sns.histplot(data=df[df['I'] == False], x='likes', color='red', label='Без местоимений', kde=True)\n",
    "plt.title('Распределение лайков для цитат с местоимениями и без')\n",
    "plt.xlabel('Количество лайков')\n",
    "plt.ylabel('Частота')\n",
    "plt.legend()\n",
    "plt.show()"
   ]
  },
  {
   "cell_type": "markdown",
   "metadata": {},
   "source": [
    "Хвосты, конечно же"
   ]
  },
  {
   "cell_type": "markdown",
   "metadata": {},
   "source": [
    "Да, проблемы есть. Это выбросы. Хвосты на гистограммах оказываются очень длинными. Найдите медианы и средние для числа лайков. Сравните их между собой. "
   ]
  },
  {
   "cell_type": "code",
   "execution_count": null,
   "metadata": {
    "deletable": false,
    "nbgrader": {
     "cell_type": "code",
     "checksum": "920d011f18252d1f5ad8a0acbd77af8b",
     "grade": false,
     "grade_id": "cell-84afb85a40373b11",
     "locked": false,
     "schema_version": 3,
     "solution": true,
     "task": false
    }
   },
   "outputs": [
    {
     "name": "stdout",
     "output_type": "stream",
     "text": [
      "Медиана лайков (с местоимениями): 2588.5\n",
      "Медиана лайков (без местоимений): 2497.0\n",
      "Среднее лайков (с местоимениями): 2879.1828885400314\n",
      "Среднее лайков (без местоимений): 2784.0432051478474\n"
     ]
    }
   ],
   "source": [
    "\n",
    "median_with = df[df['I'] == True]['likes'].median()\n",
    "median_without = df[df['I'] == False]['likes'].median()\n",
    "mean_with = df[df['I'] == True]['likes'].mean()\n",
    "mean_without = df[df['I'] == False]['likes'].mean()\n",
    "\n",
    "print(f'Медиана лайков (с местоимениями): {median_with}')\n",
    "print(f'Медиана лайков (без местоимений): {median_without}')\n",
    "print(f'Среднее лайков (с местоимениями): {mean_with}')\n",
    "print(f'Среднее лайков (без местоимений): {mean_without}')"
   ]
  },
  {
   "cell_type": "markdown",
   "metadata": {},
   "source": [
    "Проверьте гипотезу о равенстве среднего числа лайков. Используйте для этого $z$-тест, основанный на ЦПТ. Дисперсию расчитывайте по выборке, используя несмещённую оценку `(ddof=1)`. Запишите наблюдаемое значение статистики в переменную `z_obs`. "
   ]
  },
  {
   "cell_type": "code",
   "execution_count": null,
   "metadata": {
    "deletable": false,
    "nbgrader": {
     "cell_type": "code",
     "checksum": "7f93ee1688388c6a8b8449e05da2fe98",
     "grade": false,
     "grade_id": "cell-1acfb89f07181a0a",
     "locked": false,
     "schema_version": 3,
     "solution": true,
     "task": false
    }
   },
   "outputs": [
    {
     "name": "stdout",
     "output_type": "stream",
     "text": [
      "Наблюдаемое значение статистики: 2.684387800858848\n",
      "P-значение: 0.00726627678608575\n"
     ]
    }
   ],
   "source": [
    "from statsmodels.stats.weightstats import ztest\n",
    "\n",
    "\n",
    "sample_with = df[df['I'] == True]['likes']\n",
    "sample_without = df[df['I'] == False]['likes']\n",
    "\n",
    "\n",
    "alpha = 0.05\n",
    "z_obs, pval = ztest(sample_with, sample_without, value=0, alternative='two-sided', ddof=1)\n",
    "\n",
    "print(f'Наблюдаемое значение статистики: {z_obs}')\n",
    "print(f'P-значение: {pval}')"
   ]
  },
  {
   "cell_type": "markdown",
   "metadata": {},
   "source": [
    "Найдите критическое значение статистики. Сравните его с наблюдаемым. Рассчитайте p-value для ситуации с двусторонней альтернативой. Сделайте вывод о выдвинутой гипотезе. Критическое значение статистики запишите в переменную `z_crit`, а p-значение в переменную `pval`. "
   ]
  },
  {
   "cell_type": "code",
   "execution_count": null,
   "metadata": {
    "deletable": false,
    "nbgrader": {
     "cell_type": "code",
     "checksum": "46bd437560b80a2b837cc3e7d7415f62",
     "grade": false,
     "grade_id": "cell-9ebff976022e649a",
     "locked": false,
     "schema_version": 3,
     "solution": true,
     "task": false
    }
   },
   "outputs": [
    {
     "name": "stdout",
     "output_type": "stream",
     "text": [
      "Критическое значение: 1.959963984540054\n",
      "Отвергаем нулевую гипотезу: средние различаются\n"
     ]
    }
   ],
   "source": [
    "\n",
    "z_crit = sts.norm.ppf(1 - alpha/2)\n",
    "\n",
    "print(f'Критическое значение: {z_crit}')\n",
    "\n",
    "\n",
    "if abs(z_obs) > z_crit:\n",
    "    print('Отвергаем нулевую гипотезу: средние различаются')\n",
    "else:\n",
    "    print('Не отвергаем нулевую гипотезу: средние не различаются')"
   ]
  },
  {
   "cell_type": "code",
   "execution_count": null,
   "metadata": {
    "deletable": false,
    "editable": false,
    "nbgrader": {
     "cell_type": "code",
     "checksum": "2a9b5192c35b42a4c281ed60e5bd03ec",
     "grade": true,
     "grade_id": "cell-839825aaa8c13ab0",
     "locked": true,
     "points": 1,
     "schema_version": 3,
     "solution": false,
     "task": false
    }
   },
   "outputs": [],
   "source": [
    "\n",
    "assert np.abs(z_obs - 2.684387800858848) < 1e-5\n",
    "\n",
    "\n"
   ]
  },
  {
   "cell_type": "markdown",
   "metadata": {},
   "source": [
    "Можно заметить, что у распределения числа репостов длинные хвосты. В данных есть выбросы, которые завышают среднее значение. Если выбросы сильные, то ЦПТ может ломаться. Из-за этого имеет смысл в данном случае проверять гипотезу о равенстве медиан, которые устойчивы к выбросам.\n",
    "\n",
    "-------------------"
   ]
  },
  {
   "cell_type": "markdown",
   "metadata": {},
   "source": [
    "## Задание 2  (Тайлер) \n",
    "\n",
    "__Люди всё время меня спрашивают, знаю ли я Тайлера Дёрдена?__ Да, знаю. Он делает лучшее мыло в стране. \n",
    "\n",
    "__а)__ Тайлер считает партию изделий хорошей, если дисперсия размера не превышает $25$ грамм$^2$. Пока Тайлер летел в самолёте, он измерил $10$ кусков мыла. Выборочная дисперсия оказалась равна $27$ грамм$^2$. Можно ли продавать эту партию или её надо списать в брак? \n",
    "\n",
    "При проверке этой гипотезы найдите $p$-значение и запишите его в переменную `pval1`. Наблюдаемое значение статистики запишите в переменную `chi_obs`. Используйте уровень значимости $1\\%$."
   ]
  },
  {
   "cell_type": "code",
   "execution_count": null,
   "metadata": {
    "deletable": false,
    "nbgrader": {
     "cell_type": "code",
     "checksum": "9b8826d6e3062cc4de98fdd59e1d6ca9",
     "grade": false,
     "grade_id": "cell-2e30e820f90148d5",
     "locked": false,
     "schema_version": 3,
     "solution": true,
     "task": false
    }
   },
   "outputs": [
    {
     "name": "stdout",
     "output_type": "stream",
     "text": [
      "Наблюдаемое значение хи-квадрат: 9.72\n",
      "P-значение: 0.3736\n",
      "Критическое значение: 21.67\n",
      "Не отвергаем H0: дисперсия в пределах нормы, можно продавать\n"
     ]
    }
   ],
   "source": [
    "from scipy import stats as sts\n",
    "\n",
    "\n",
    "n = 10               \n",
    "s2 = 27              \n",
    "sigma2_0 = 25        \n",
    "alpha = 0.01         \n",
    "\n",
    "\n",
    "chi_obs = (n - 1) * s2 / sigma2_0\n",
    "\n",
    "\n",
    "pval1 = 1 - sts.chi2.cdf(chi_obs, df=n-1)\n",
    "\n",
    "print(f\"Наблюдаемое значение хи-квадрат: {chi_obs:.2f}\")\n",
    "print(f\"P-значение: {pval1:.4f}\")\n",
    "\n",
    "\n",
    "chi_crit = sts.chi2.ppf(1 - alpha, df=n-1)\n",
    "\n",
    "print(f\"Критическое значение: {chi_crit:.2f}\")\n",
    "\n",
    "\n",
    "if chi_obs > chi_crit:\n",
    "    print(\"Отвергаем H0: дисперсия превышает 25 г², партию надо списать\")\n",
    "else:\n",
    "    print(\"Не отвергаем H0: дисперсия в пределах нормы, можно продавать\")"
   ]
  },
  {
   "cell_type": "markdown",
   "metadata": {},
   "source": [
    "__б)__ Для того, чтобы уменьшить количество бракованного мыла, Тайлер собирается внедрить новую технологию производства. Тайлер произвёл по старой технологии $100$ кусков мыла. Стандартное отклонение этой партии составило $6$ грамм. Для  новой технологии стандартное отклонение, посчитанное по $100$ кускам мыла, составило $5$ грамм. Правда ли, что новая технология обладает меньшей дисперсией и её нужно внедрить на производстве?\n",
    "\n",
    "При проверке этой гипотезы найдите $p$-значение и запишите его в переменную `pval2`. Используйте уровень значимости $1\\%$."
   ]
  },
  {
   "cell_type": "code",
   "execution_count": null,
   "metadata": {
    "deletable": false,
    "nbgrader": {
     "cell_type": "code",
     "checksum": "72a130a7ef8f3bae0797aa938d6cfe08",
     "grade": false,
     "grade_id": "cell-88a96be4941d7e62",
     "locked": false,
     "schema_version": 3,
     "solution": true,
     "task": false
    }
   },
   "outputs": [
    {
     "name": "stdout",
     "output_type": "stream",
     "text": [
      "\n",
      "F-статистика: 1.44\n",
      "P-значение: 0.0356\n",
      "Критическое значение F: 1.60\n",
      "Не отвергаем H0: нет доказательств преимущества новой технологии\n"
     ]
    }
   ],
   "source": [
    "\n",
    "n_old = n_new = 100   \n",
    "s_old = 6             \n",
    "s_new = 5             \n",
    "alpha = 0.01\n",
    "\n",
    "s2_old = s_old ** 2\n",
    "s2_new = s_new ** 2\n",
    "\n",
    "F_obs = s2_old / s2_new\n",
    "\n",
    "pval2 = 1 - sts.f.cdf(F_obs, dfn=n_old-1, dfd=n_new-1)\n",
    "\n",
    "print(f\"\\nF-статистика: {F_obs:.2f}\")\n",
    "print(f\"P-значение: {pval2:.4f}\")\n",
    "\n",
    "F_crit = sts.f.ppf(1 - alpha, dfn=n_old-1, dfd=n_new-1)\n",
    "\n",
    "print(f\"Критическое значение F: {F_crit:.2f}\")\n",
    "\n",
    "\n",
    "if F_obs > F_crit:\n",
    "    print(\"Отвергаем H0: новая технология имеет меньшую дисперсию, стоит внедрить\")\n",
    "else:\n",
    "    print(\"Не отвергаем H0: нет доказательств преимущества новой технологии\")"
   ]
  },
  {
   "cell_type": "code",
   "execution_count": 30,
   "metadata": {
    "deletable": false,
    "editable": false,
    "nbgrader": {
     "cell_type": "code",
     "checksum": "b1739595ab5d48865bfc97bafc11bc33",
     "grade": true,
     "grade_id": "cell-167632eabf2289bb",
     "locked": true,
     "points": 1,
     "schema_version": 3,
     "solution": false,
     "task": false
    }
   },
   "outputs": [],
   "source": [
    "# проверка того, что задание решено верно\n",
    "assert np.abs(chi_obs - 9.72) < 1e-1\n",
    "assert np.abs(F_obs - 1.44) < 1e-1\n",
    "\n",
    "# другие подобные тесты скрыты от вас"
   ]
  },
  {
   "cell_type": "markdown",
   "metadata": {},
   "source": [
    "## Задание 3 (рейтинги президентов) \n",
    "\n",
    "В таблице `presidents.csv` представлены рейтинги различных президентов США. Социальные опросы проводились раз в квартал. Опрашивалась случайная выборка граждан. У каждого спрашивалось одобряет ли он деятельность президента.\n",
    "\n",
    "__Люди всё время меня спрашивают, знаю ли я Никсона.__ Да, Ричард Никсон был президентом США с 20 января 1969 года по 9 августа 1974 года. 17 июня 1972 года произошёл Уотергейтский скандал. Давайте проанализируем, что при этом произошло с его рейтингом."
   ]
  },
  {
   "cell_type": "code",
   "execution_count": 32,
   "metadata": {},
   "outputs": [
    {
     "data": {
      "text/html": [
       "<div>\n",
       "<style scoped>\n",
       "    .dataframe tbody tr th:only-of-type {\n",
       "        vertical-align: middle;\n",
       "    }\n",
       "\n",
       "    .dataframe tbody tr th {\n",
       "        vertical-align: top;\n",
       "    }\n",
       "\n",
       "    .dataframe thead th {\n",
       "        text-align: right;\n",
       "    }\n",
       "</style>\n",
       "<table border=\"1\" class=\"dataframe\">\n",
       "  <thead>\n",
       "    <tr style=\"text-align: right;\">\n",
       "      <th></th>\n",
       "      <th>year</th>\n",
       "      <th>Qtr1</th>\n",
       "      <th>Qtr2</th>\n",
       "      <th>Qtr3</th>\n",
       "      <th>Qtr4</th>\n",
       "    </tr>\n",
       "  </thead>\n",
       "  <tbody>\n",
       "    <tr>\n",
       "      <th>0</th>\n",
       "      <td>1945</td>\n",
       "      <td>NaN</td>\n",
       "      <td>87</td>\n",
       "      <td>82.0</td>\n",
       "      <td>75.0</td>\n",
       "    </tr>\n",
       "    <tr>\n",
       "      <th>1</th>\n",
       "      <td>1946</td>\n",
       "      <td>63.0</td>\n",
       "      <td>50</td>\n",
       "      <td>43.0</td>\n",
       "      <td>32.0</td>\n",
       "    </tr>\n",
       "    <tr>\n",
       "      <th>2</th>\n",
       "      <td>1947</td>\n",
       "      <td>35.0</td>\n",
       "      <td>60</td>\n",
       "      <td>54.0</td>\n",
       "      <td>55.0</td>\n",
       "    </tr>\n",
       "    <tr>\n",
       "      <th>3</th>\n",
       "      <td>1948</td>\n",
       "      <td>36.0</td>\n",
       "      <td>39</td>\n",
       "      <td>NaN</td>\n",
       "      <td>NaN</td>\n",
       "    </tr>\n",
       "    <tr>\n",
       "      <th>4</th>\n",
       "      <td>1949</td>\n",
       "      <td>69.0</td>\n",
       "      <td>57</td>\n",
       "      <td>57.0</td>\n",
       "      <td>51.0</td>\n",
       "    </tr>\n",
       "  </tbody>\n",
       "</table>\n",
       "</div>"
      ],
      "text/plain": [
       "   year  Qtr1  Qtr2  Qtr3  Qtr4\n",
       "0  1945   NaN    87  82.0  75.0\n",
       "1  1946  63.0    50  43.0  32.0\n",
       "2  1947  35.0    60  54.0  55.0\n",
       "3  1948  36.0    39   NaN   NaN\n",
       "4  1949  69.0    57  57.0  51.0"
      ]
     },
     "execution_count": 32,
     "metadata": {},
     "output_type": "execute_result"
    }
   ],
   "source": [
    "import pandas as pd\n",
    "import numpy as np\n",
    "from scipy import stats as sts\n",
    "\n",
    "df = pd.read_csv('./data/presidents.csv')\n",
    "df.head()"
   ]
  },
  {
   "cell_type": "markdown",
   "metadata": {},
   "source": [
    "Чтобы привести таблицу к удобному виду используйте функцию `pd.melt`. Вытащите из таблички рейтинг Никсона с 1 квартала 1969 года по 2 квартал 1972 года (включая его). Запишите эти данные в переменную `x`. Рейтинг с 3 квартала 1972 года по 2 квартал 1974 года поместите в переменную `y`. Пропуски в данных удалите из выборки."
   ]
  },
  {
   "cell_type": "code",
   "execution_count": null,
   "metadata": {
    "deletable": false,
    "nbgrader": {
     "cell_type": "code",
     "checksum": "22ec9a50950897f91ca39c4631a6200c",
     "grade": false,
     "grade_id": "cell-0c35f4bdddbb0029",
     "locked": false,
     "schema_version": 3,
     "solution": true,
     "task": false
    }
   },
   "outputs": [
    {
     "name": "stderr",
     "output_type": "stream",
     "text": [
      "C:\\Users\\ilyaf\\AppData\\Local\\Temp\\ipykernel_25384\\1684880519.py:11: SettingWithCopyWarning: \n",
      "A value is trying to be set on a copy of a slice from a DataFrame.\n",
      "Try using .loc[row_indexer,col_indexer] = value instead\n",
      "\n",
      "See the caveats in the documentation: https://pandas.pydata.org/pandas-docs/stable/user_guide/indexing.html#returning-a-view-versus-a-copy\n",
      "  df_clean['period'] = df_clean['year'].astype(str) + df_clean['quarter'].str.replace('Qtr', 'Q')\n"
     ]
    }
   ],
   "source": [
    "\n",
    "df_melted = df.melt(id_vars='year', \n",
    "                   value_vars=['Qtr1', 'Qtr2', 'Qtr3', 'Qtr4'],\n",
    "                   var_name='quarter', \n",
    "                   value_name='approval')\n",
    "\n",
    "\n",
    "df_clean = df_melted.dropna()\n",
    "\n",
    "\n",
    "df_clean['period'] = df_clean['year'].astype(str) + df_clean['quarter'].str.replace('Qtr', 'Q')\n",
    "\n",
    "nixon_data = df_clean.copy()  \n",
    "\n",
    "df_filtered = df_clean[(df_clean['period'] >= '1969Q1') & (df_clean['period'] <= '1972Q2')]\n",
    "\n",
    "x = df_clean[(df_clean['period'] >= '1969Q1') & (df_clean['period'] <= '1972Q2')]['approval']\n",
    "y = df_clean[(df_clean['period'] >= '1972Q3') & (df_clean['period'] <= '1974Q2')]['approval']"
   ]
  },
  {
   "cell_type": "markdown",
   "metadata": {},
   "source": [
    "Правда ли, что после скандала средний рейтинг Никсона рухнул? Предполагайте, что рейтинг распределён нормально, а также, что дисперсия рейтинга не изменилась из-за скандала. Наблюдаемое значение статистики запишите в переменную `obs`, в переменную `pval` запишите $p$-значение."
   ]
  },
  {
   "cell_type": "code",
   "execution_count": null,
   "metadata": {
    "deletable": false,
    "nbgrader": {
     "cell_type": "code",
     "checksum": "2472ad8779c6b2e9af75ad034a8f98ae",
     "grade": false,
     "grade_id": "cell-468606ed00795265",
     "locked": false,
     "schema_version": 3,
     "solution": true,
     "task": false
    }
   },
   "outputs": [
    {
     "name": "stdout",
     "output_type": "stream",
     "text": [
      "Анализ изменения рейтинга президента:\n",
      "Период 1 (до): 14 точек данных, среднее = 56.36\n",
      "Период 2 (после): 6 точек данных, среднее = 38.67\n",
      "\n",
      "t-статистика: 3.5641\n",
      "p-value: 0.002217\n",
      "\n",
      "Вывод: Отвергаем нулевую гипотезу - рейтинг значимо изменился\n"
     ]
    }
   ],
   "source": [
    "\n",
    "obs, pval = sts.ttest_ind(x, y, equal_var=True)\n",
    "\n",
    "print(\"Анализ изменения рейтинга президента:\")\n",
    "print(f\"Период 1 (до): {len(x)} точек данных, среднее = {x.mean():.2f}\")\n",
    "print(f\"Период 2 (после): {len(y)} точек данных, среднее = {y.mean():.2f}\")\n",
    "print(f\"\\nt-статистика: {obs:.4f}\")\n",
    "print(f\"p-value: {pval:.6f}\")\n",
    "\n",
    "\n",
    "alpha = 0.05\n",
    "if pval < alpha:\n",
    "    print(\"\\nВывод: Отвергаем нулевую гипотезу - рейтинг значимо изменился\")\n",
    "else:\n",
    "    print(\"\\nВывод: Не отвергаем нулевую гипотезу - нет доказательств изменения рейтинга\")"
   ]
  },
  {
   "cell_type": "code",
   "execution_count": 46,
   "metadata": {
    "deletable": false,
    "editable": false,
    "nbgrader": {
     "cell_type": "code",
     "checksum": "425fc259b1e678f51b14bc6d4e8a9fe3",
     "grade": true,
     "grade_id": "cell-9012c13c9eb644cf",
     "locked": true,
     "points": 1,
     "schema_version": 3,
     "solution": false,
     "task": false
    }
   },
   "outputs": [],
   "source": [
    "# проверка того, что задание решено верно\n",
    "\n",
    "# другие подобные тесты скрыты от вас \n",
    "assert np.abs(obs - 3.5640741313229793) < 1e-5\n"
   ]
  },
  {
   "cell_type": "markdown",
   "metadata": {},
   "source": [
    "## Задание 4 (сон)\n",
    "\n",
    "Проводится эксперимент о пользе нового снотворного. Для его проведения используется группа из $10$ студентов. В первый день каждый из них ложится спать. На утро измеряется, сколько он проспал. Из результата вычитают $8$ (нормальное число часов сна). На второй день каждому дают таблетку. Утром снова измеряют сколько человек проспал, и вычитают $8$. Результаты эксперимента записаны в табличку `sleep.csv`."
   ]
  },
  {
   "cell_type": "code",
   "execution_count": 47,
   "metadata": {},
   "outputs": [
    {
     "data": {
      "text/html": [
       "<div>\n",
       "<style scoped>\n",
       "    .dataframe tbody tr th:only-of-type {\n",
       "        vertical-align: middle;\n",
       "    }\n",
       "\n",
       "    .dataframe tbody tr th {\n",
       "        vertical-align: top;\n",
       "    }\n",
       "\n",
       "    .dataframe thead th {\n",
       "        text-align: right;\n",
       "    }\n",
       "</style>\n",
       "<table border=\"1\" class=\"dataframe\">\n",
       "  <thead>\n",
       "    <tr style=\"text-align: right;\">\n",
       "      <th></th>\n",
       "      <th>extra</th>\n",
       "      <th>group</th>\n",
       "      <th>ID</th>\n",
       "    </tr>\n",
       "  </thead>\n",
       "  <tbody>\n",
       "    <tr>\n",
       "      <th>0</th>\n",
       "      <td>0.7</td>\n",
       "      <td>1</td>\n",
       "      <td>1</td>\n",
       "    </tr>\n",
       "    <tr>\n",
       "      <th>1</th>\n",
       "      <td>-1.6</td>\n",
       "      <td>1</td>\n",
       "      <td>2</td>\n",
       "    </tr>\n",
       "    <tr>\n",
       "      <th>2</th>\n",
       "      <td>-0.2</td>\n",
       "      <td>1</td>\n",
       "      <td>3</td>\n",
       "    </tr>\n",
       "    <tr>\n",
       "      <th>3</th>\n",
       "      <td>-1.2</td>\n",
       "      <td>1</td>\n",
       "      <td>4</td>\n",
       "    </tr>\n",
       "    <tr>\n",
       "      <th>4</th>\n",
       "      <td>-0.1</td>\n",
       "      <td>1</td>\n",
       "      <td>5</td>\n",
       "    </tr>\n",
       "  </tbody>\n",
       "</table>\n",
       "</div>"
      ],
      "text/plain": [
       "   extra  group  ID\n",
       "0    0.7      1   1\n",
       "1   -1.6      1   2\n",
       "2   -0.2      1   3\n",
       "3   -1.2      1   4\n",
       "4   -0.1      1   5"
      ]
     },
     "execution_count": 47,
     "metadata": {},
     "output_type": "execute_result"
    }
   ],
   "source": [
    "df = pd.read_csv('./data/sleep.csv')\n",
    "df.head()"
   ]
  },
  {
   "cell_type": "markdown",
   "metadata": {},
   "source": [
    "Правда ли, что сон студентов до приёма снотворного не отличается от нормы (отклонение от 8 часов равно нулю). Проверьте эту гипотезу на $5\\%$ уровне значимости, в переменную `pval1` запишите p-значение. "
   ]
  },
  {
   "cell_type": "code",
   "execution_count": 51,
   "metadata": {
    "deletable": false,
    "nbgrader": {
     "cell_type": "code",
     "checksum": "84c67f6747d67cca7633914c28107c96",
     "grade": false,
     "grade_id": "cell-c04ca7c5b2d46f59",
     "locked": false,
     "schema_version": 3,
     "solution": true,
     "task": false
    }
   },
   "outputs": [
    {
     "data": {
      "text/plain": [
       "0.2175977800684489"
      ]
     },
     "execution_count": 51,
     "metadata": {},
     "output_type": "execute_result"
    }
   ],
   "source": [
    "from scipy import stats\n",
    "extra_before = df[df[\"group\"] == 1][\"extra\"]\n",
    "tobs1, pval1 = stats.ttest_1samp(extra_before, popmean=0)\n",
    "pval1"
   ]
  },
  {
   "cell_type": "markdown",
   "metadata": {},
   "source": [
    "Правда ли, что благодаря таблеткам студенты стали спать больше (односторонняя альтернатива)? Запишите в переменную `pval2` соотвествующее p-значение. "
   ]
  },
  {
   "cell_type": "code",
   "execution_count": null,
   "metadata": {
    "deletable": false,
    "nbgrader": {
     "cell_type": "code",
     "checksum": "5df1edb5b8b18a467151f30e3ad24e05",
     "grade": false,
     "grade_id": "cell-4c7c2e8e8b3c5de8",
     "locked": false,
     "schema_version": 3,
     "solution": true,
     "task": false
    }
   },
   "outputs": [
    {
     "data": {
      "text/plain": [
       "0.001416445098692135"
      ]
     },
     "execution_count": 52,
     "metadata": {},
     "output_type": "execute_result"
    }
   ],
   "source": [
    "\n",
    "before = df[df[\"group\"] == 1][\"extra\"].reset_index(drop=True)\n",
    "after = df[df[\"group\"] == 2][\"extra\"].reset_index(drop=True)\n",
    "\n",
    "\n",
    "tobs2, pval_two_sided = stats.ttest_rel(after, before)\n",
    "\n",
    "\n",
    "if tobs2 > 0:\n",
    "    pval2 = pval_two_sided / 2\n",
    "else:\n",
    "    pval2 = 1 - pval_two_sided / 2\n",
    "\n",
    "pval2"
   ]
  },
  {
   "cell_type": "code",
   "execution_count": 53,
   "metadata": {
    "deletable": false,
    "editable": false,
    "nbgrader": {
     "cell_type": "code",
     "checksum": "72bfc924a2bb01c46b9bf61fddb2620b",
     "grade": true,
     "grade_id": "cell-2167298693b77a31",
     "locked": true,
     "points": 1,
     "schema_version": 3,
     "solution": false,
     "task": false
    }
   },
   "outputs": [],
   "source": [
    "# проверка того, что задание решено верно\n",
    "assert np.abs(tobs1 - 1.325710) < 1e-5\n",
    "assert np.abs(tobs2 - 4.062127) < 1e-5\n",
    "\n",
    "# другие подобные тесты скрыты от вас "
   ]
  },
  {
   "cell_type": "markdown",
   "metadata": {},
   "source": [
    "## Задание 5 (say my name)\n",
    "\n",
    "__Люди всё время меня спрашивают, знает ли меня Барсик.__  Многие владельцы кошек уверены, что их питомцы могут понимать достаточно большое количество слов, а также узнавать собственное имя. Однако долгое время никто не пытался доказать это экспериментально. Разобраться с этой проблемой [решили учёные из Токийского университета.](https://nplus1.ru/news/2019/04/04/cat-name?utm_source=obrazovach&utm_medium=social&utm_campaign=yaponskie-uchenye-dokazali--chto-domashnie-k)\n",
    "\n",
    "Было проведено четыре эксперимента с участием домашних кошек и кошек из кошачьих кафе. Учёные использовали метод привыкания-отвыкания (habituation-dishabituation), который часто используется в экспериментах с участием маленьких детей. \n",
    "\n",
    "В соответствии с гипотезой, которая лежит в основе этого метода, определить реакцию на какой-либо стимул можно, представив его после схожих с ним стимулов. К примеру, для того, чтобы выяснить, может ли младенец узнать свое имя, ему представляют несколько слов подряд: с каждым новым словом его реакция снижается, но появление имени должно (в случае, если ребенок действительно узнает свое имя) ее вернуть. Этот же метод применили и к кошкам: реакция кошек на слова характеризовалась поворотом головы, движением ушей, вокализацией, движениями хвоста или перемещениями.\n",
    "\n",
    "В первом эксперименте исследователи проследили за реакцией кошек на собственное имя, произнесенное хозяином, после четырех существительных (16 кошек, живущих дома с двумя другими кошками или меньше). Данные об этом эксперименте находятся в табличке `cats_names.csv`. "
   ]
  },
  {
   "cell_type": "code",
   "execution_count": 71,
   "metadata": {},
   "outputs": [
    {
     "data": {
      "text/html": [
       "<div>\n",
       "<style scoped>\n",
       "    .dataframe tbody tr th:only-of-type {\n",
       "        vertical-align: middle;\n",
       "    }\n",
       "\n",
       "    .dataframe tbody tr th {\n",
       "        vertical-align: top;\n",
       "    }\n",
       "\n",
       "    .dataframe thead th {\n",
       "        text-align: right;\n",
       "    }\n",
       "</style>\n",
       "<table border=\"1\" class=\"dataframe\">\n",
       "  <thead>\n",
       "    <tr style=\"text-align: right;\">\n",
       "      <th></th>\n",
       "      <th>name</th>\n",
       "      <th>stimuli</th>\n",
       "      <th>Ear moving</th>\n",
       "      <th>Head moving</th>\n",
       "      <th>Tail moving</th>\n",
       "      <th>Vocalising</th>\n",
       "      <th>Displacement</th>\n",
       "      <th>Total Score</th>\n",
       "    </tr>\n",
       "  </thead>\n",
       "  <tbody>\n",
       "    <tr>\n",
       "      <th>0</th>\n",
       "      <td>Cr</td>\n",
       "      <td>Noun 1</td>\n",
       "      <td>1</td>\n",
       "      <td>0</td>\n",
       "      <td>0</td>\n",
       "      <td>0</td>\n",
       "      <td>0</td>\n",
       "      <td>1</td>\n",
       "    </tr>\n",
       "    <tr>\n",
       "      <th>1</th>\n",
       "      <td>Cr</td>\n",
       "      <td>Noun 2</td>\n",
       "      <td>1</td>\n",
       "      <td>1</td>\n",
       "      <td>0</td>\n",
       "      <td>0</td>\n",
       "      <td>0</td>\n",
       "      <td>2</td>\n",
       "    </tr>\n",
       "    <tr>\n",
       "      <th>2</th>\n",
       "      <td>Cr</td>\n",
       "      <td>Noun 3</td>\n",
       "      <td>1</td>\n",
       "      <td>1</td>\n",
       "      <td>0</td>\n",
       "      <td>0</td>\n",
       "      <td>0</td>\n",
       "      <td>2</td>\n",
       "    </tr>\n",
       "    <tr>\n",
       "      <th>3</th>\n",
       "      <td>Cr</td>\n",
       "      <td>Noun 4</td>\n",
       "      <td>0</td>\n",
       "      <td>0</td>\n",
       "      <td>0</td>\n",
       "      <td>0</td>\n",
       "      <td>0</td>\n",
       "      <td>0</td>\n",
       "    </tr>\n",
       "    <tr>\n",
       "      <th>4</th>\n",
       "      <td>Cr</td>\n",
       "      <td>Test Cat's Name</td>\n",
       "      <td>1</td>\n",
       "      <td>0</td>\n",
       "      <td>0</td>\n",
       "      <td>0</td>\n",
       "      <td>0</td>\n",
       "      <td>1</td>\n",
       "    </tr>\n",
       "  </tbody>\n",
       "</table>\n",
       "</div>"
      ],
      "text/plain": [
       "  name          stimuli  Ear moving  Head moving  Tail moving  Vocalising  \\\n",
       "0   Cr           Noun 1           1            0            0           0   \n",
       "1   Cr           Noun 2           1            1            0           0   \n",
       "2   Cr           Noun 3           1            1            0           0   \n",
       "3   Cr           Noun 4           0            0            0           0   \n",
       "4   Cr  Test Cat's Name           1            0            0           0   \n",
       "\n",
       "   Displacement  Total Score  \n",
       "0             0            1  \n",
       "1             0            2  \n",
       "2             0            2  \n",
       "3             0            0  \n",
       "4             0            1  "
      ]
     },
     "execution_count": 71,
     "metadata": {},
     "output_type": "execute_result"
    }
   ],
   "source": [
    "df = pd.read_csv('./data/cats_names.csv', sep='\\t')\n",
    "df.head()"
   ]
  },
  {
   "cell_type": "markdown",
   "metadata": {},
   "source": [
    "Будем проверять гипотезу о том, что кошки понимают своё имя с помощью упрощённой процедуры: \n",
    "\n",
    "- Вытащим из таблички все строчки, где экспериментаторы называли $4-$ое существительное. Они помечены в колонке `stimuli` как `Noun 4`. Если в колонке `Total Score` стоит положительное число, будем считать, что кошка среагировала на слово. В вектор `noun4` запишем единицу. В противном случае — ноль. \n",
    "- Вытащим по аналогии информацию о том, откликнулась ли кошка на своё имя (пометка `Test Cat's Name`) в колонке `stimuli`. Запишем её в вектор `name`.\n",
    "- Используем тест о равенстве пропорций для зависимых выборок, чтобы ответить на вопрос \"А правда ли кошка откликается на своё имя?\" В переменную `pval` запишем $p$-значение, полученное при проверке этой гипотезы. "
   ]
  },
  {
   "cell_type": "code",
   "execution_count": null,
   "metadata": {
    "deletable": false,
    "nbgrader": {
     "cell_type": "code",
     "checksum": "c019c2956f7e14de25568795f31f7dcc",
     "grade": false,
     "grade_id": "cell-4ab37a21e0f8a42c",
     "locked": false,
     "schema_version": 3,
     "solution": true,
     "task": false
    }
   },
   "outputs": [],
   "source": [
    "\n",
    "noun4 = ((df['stimuli'] == 'Noun 4') & (df['Total Score'] > 0)).astype(int)\n",
    "name = ((df['stimuli'] == \"Test Cat's Name\") & (df['Total Score'] > 0)).astype(int)\n",
    "\n",
    "\n",
    "b = ((noun4 == 0) & (name == 1)).sum()  \n",
    "c = ((noun4 == 1) & (name == 0)).sum()  \n",
    "\n",
    "\n",
    "z_obs = (abs(b - c) - 1) / np.sqrt(b + c)\n",
    "pval = 2 * (1 - stats.norm.cdf(abs(z_obs)))  "
   ]
  },
  {
   "cell_type": "code",
   "execution_count": 87,
   "metadata": {
    "deletable": false,
    "editable": false,
    "nbgrader": {
     "cell_type": "code",
     "checksum": "017ca952bd4b618680f94b4eb603e091",
     "grade": true,
     "grade_id": "cell-473051ae67ddc9a6",
     "locked": true,
     "points": 1,
     "schema_version": 3,
     "solution": false,
     "task": false
    }
   },
   "outputs": [
    {
     "ename": "AssertionError",
     "evalue": "",
     "output_type": "error",
     "traceback": [
      "\u001b[1;31m---------------------------------------------------------------------------\u001b[0m",
      "\u001b[1;31mAssertionError\u001b[0m                            Traceback (most recent call last)",
      "Cell \u001b[1;32mIn[87], line 3\u001b[0m\n\u001b[0;32m      1\u001b[0m \u001b[38;5;66;03m# проверка того, что задание решено верно\u001b[39;00m\n\u001b[0;32m      2\u001b[0m \u001b[38;5;28;01massert\u001b[39;00m \u001b[38;5;28msum\u001b[39m(name) \u001b[38;5;241m==\u001b[39m \u001b[38;5;241m14\u001b[39m\n\u001b[1;32m----> 3\u001b[0m \u001b[38;5;28;01massert\u001b[39;00m np\u001b[38;5;241m.\u001b[39mabs(z_obs \u001b[38;5;241m-\u001b[39m \u001b[38;5;241m1.7888543819998317\u001b[39m) \u001b[38;5;241m<\u001b[39m \u001b[38;5;241m1e-5\u001b[39m\n\u001b[0;32m      5\u001b[0m \u001b[38;5;66;03m# другие подобные тесты скрыты от вас \u001b[39;00m\n",
      "\u001b[1;31mAssertionError\u001b[0m: "
     ]
    }
   ],
   "source": [
    "# проверка того, что задание решено верно\n",
    "assert sum(name) == 14\n",
    "assert np.abs(z_obs - 1.7888543819998317) < 1e-5\n",
    "\n",
    "# другие подобные тесты скрыты от вас "
   ]
  },
  {
   "cell_type": "markdown",
   "metadata": {},
   "source": [
    "Выводы учёных могут отличаться от наших. Результат проверки гипотезы зависит от многих внешних факторов. Например, от громкости произнесённого кошачьего имени. Все такие факторы надо как-то изолировать.\n",
    "\n",
    "[В оригинальном исследовании](https://www.nature.com/articles/s41598-019-40616-4) учёные реализовывали более сложные статистические процедуры. Они пытались проконтролировать все внешние факторы, которые могли бы повлиять на результаты эксперимента. О том, как это можно делать, мы с вами поговорим в будущем. \n",
    "\n",
    "![](https://cdn.nplus1.ru/images/2019/04/04/47a222337ec0984bcec1644f12b4c328.gif)"
   ]
  },
  {
   "cell_type": "markdown",
   "metadata": {},
   "source": [
    "## Задание 6\n",
    "\n",
    "Лекции по матану на экономическом факультете читают два преподавателя: Злой и Добрый. Каждый год они чередуются. Среди студентов ходит слух, что в год, когда преподаёт Злой, отчисляют куда больше народу. В таблице `matan.csv` лежит информация по $418$ студентам экономического факультета. \n",
    "\n",
    "В столбце `is_angry` стоит единица, если этому студенту преподавал Злой. В столбце `target_1` стоит единица, если человек закончил первый курс. Проверьте гипотезу о том, что Злой отчисляет больше народу. В переменную `pval` запишите $p$-значение, получившееся при проверке гипотезы. "
   ]
  },
  {
   "cell_type": "code",
   "execution_count": 4,
   "metadata": {},
   "outputs": [
    {
     "data": {
      "text/html": [
       "<div>\n",
       "<style scoped>\n",
       "    .dataframe tbody tr th:only-of-type {\n",
       "        vertical-align: middle;\n",
       "    }\n",
       "\n",
       "    .dataframe tbody tr th {\n",
       "        vertical-align: top;\n",
       "    }\n",
       "\n",
       "    .dataframe thead th {\n",
       "        text-align: right;\n",
       "    }\n",
       "</style>\n",
       "<table border=\"1\" class=\"dataframe\">\n",
       "  <thead>\n",
       "    <tr style=\"text-align: right;\">\n",
       "      <th></th>\n",
       "      <th>is_angry</th>\n",
       "      <th>target_1</th>\n",
       "    </tr>\n",
       "  </thead>\n",
       "  <tbody>\n",
       "    <tr>\n",
       "      <th>0</th>\n",
       "      <td>0</td>\n",
       "      <td>1.0</td>\n",
       "    </tr>\n",
       "    <tr>\n",
       "      <th>1</th>\n",
       "      <td>0</td>\n",
       "      <td>1.0</td>\n",
       "    </tr>\n",
       "    <tr>\n",
       "      <th>2</th>\n",
       "      <td>0</td>\n",
       "      <td>1.0</td>\n",
       "    </tr>\n",
       "    <tr>\n",
       "      <th>3</th>\n",
       "      <td>0</td>\n",
       "      <td>0.0</td>\n",
       "    </tr>\n",
       "    <tr>\n",
       "      <th>4</th>\n",
       "      <td>0</td>\n",
       "      <td>1.0</td>\n",
       "    </tr>\n",
       "  </tbody>\n",
       "</table>\n",
       "</div>"
      ],
      "text/plain": [
       "   is_angry  target_1\n",
       "0         0       1.0\n",
       "1         0       1.0\n",
       "2         0       1.0\n",
       "3         0       0.0\n",
       "4         0       1.0"
      ]
     },
     "execution_count": 4,
     "metadata": {},
     "output_type": "execute_result"
    }
   ],
   "source": [
    "import pandas as pd\n",
    "import numpy as np\n",
    "\n",
    "df = pd.read_csv('./data/matan.csv', sep='\\t')\n",
    "df.head()"
   ]
  },
  {
   "cell_type": "code",
   "execution_count": null,
   "metadata": {
    "deletable": false,
    "nbgrader": {
     "cell_type": "code",
     "checksum": "3ac2faf1e5b216db1ab097b8d456f1f6",
     "grade": false,
     "grade_id": "cell-06da65b1aca523bb",
     "locked": false,
     "schema_version": 3,
     "solution": true,
     "task": false
    }
   },
   "outputs": [],
   "source": [
    "from statsmodels.stats.proportion import proportions_ztest\n",
    "\n",
    "\n",
    "angry_failures = ((df['is_angry'] == 1) & (df['target_1'] == 0)).sum()\n",
    "angry_total = (df['is_angry'] == 1).sum()\n",
    "\n",
    "kind_failures = ((df['is_angry'] == 0) & (df['target_1'] == 0)).sum()\n",
    "kind_total = (df['is_angry'] == 0).sum()\n",
    "\n",
    "\n",
    "count = np.array([angry_failures, kind_failures])\n",
    "nobs = np.array([angry_total, kind_total])\n",
    "z_obs, pval = proportions_ztest(count, nobs, alternative='larger')"
   ]
  },
  {
   "cell_type": "code",
   "execution_count": 18,
   "metadata": {
    "deletable": false,
    "editable": false,
    "nbgrader": {
     "cell_type": "code",
     "checksum": "056a15214049be745202f8fcdb082a37",
     "grade": true,
     "grade_id": "cell-1ddb2c839f78df02",
     "locked": true,
     "points": 1,
     "schema_version": 3,
     "solution": false,
     "task": false
    }
   },
   "outputs": [
    {
     "ename": "AssertionError",
     "evalue": "",
     "output_type": "error",
     "traceback": [
      "\u001b[1;31m---------------------------------------------------------------------------\u001b[0m",
      "\u001b[1;31mAssertionError\u001b[0m                            Traceback (most recent call last)",
      "Cell \u001b[1;32mIn[18], line 2\u001b[0m\n\u001b[0;32m      1\u001b[0m \u001b[38;5;66;03m# проверка того, что задание решено верно\u001b[39;00m\n\u001b[1;32m----> 2\u001b[0m \u001b[38;5;28;01massert\u001b[39;00m np\u001b[38;5;241m.\u001b[39mabs(np\u001b[38;5;241m.\u001b[39mabs(z_obs) \u001b[38;5;241m-\u001b[39m \u001b[38;5;241m0.29897\u001b[39m)  \u001b[38;5;241m<\u001b[39m \u001b[38;5;241m1e-5\u001b[39m\n\u001b[0;32m      4\u001b[0m \u001b[38;5;66;03m# другие подобные тесты скрыты от вас \u001b[39;00m\n",
      "\u001b[1;31mAssertionError\u001b[0m: "
     ]
    }
   ],
   "source": [
    "# проверка того, что задание решено верно\n",
    "assert np.abs(np.abs(z_obs) - 0.29897)  < 1e-5\n",
    "\n",
    "# другие подобные тесты скрыты от вас "
   ]
  },
  {
   "cell_type": "markdown",
   "metadata": {},
   "source": [
    "## Задание 7\n",
    "\n",
    "Вася решил проверить известное утверждение о том, что бутерброд падает маслом вниз. Для этого он провёл серию из $200$ испытаний. Бутерброд упал маслом вниз $105$ раз. Маслом вверх $95$ раз. Можно ли утверждать, что бутерброд падает маслом вниз так же часто, как и маслом вверх на уровне значимости $5\\%$? В качестве ответа сохраните в `pval` $p$-значение. \n",
    "\n",
    "__Примечание:__ для поиска дисперсии используйте смещённый вариант. Либо по формуле $\\frac{p\\cdot(1-p)}{n}$ либо с помощью `std(ddof=0)`. При поиске `pval` обратите внимание, что алтернатива двусторонняя. А ещё [прочитайте историю](https://absentis.livejournal.com/27153.html) про то, почему Коперник мазал бутеры маслом. "
   ]
  },
  {
   "cell_type": "code",
   "execution_count": null,
   "metadata": {
    "deletable": false,
    "nbgrader": {
     "cell_type": "code",
     "checksum": "32402f85ea10dfa3f248e44f703663e5",
     "grade": false,
     "grade_id": "cell-db59ee9982bc3985",
     "locked": false,
     "schema_version": 3,
     "solution": true,
     "task": false
    }
   },
   "outputs": [],
   "source": [
    "import numpy as np\n",
    "from statsmodels.stats.proportion import proportions_ztest\n",
    "from scipy import stats  \n",
    "\n",
    "\n",
    "n = 200  \n",
    "m = 105  \n",
    "\n",
    "\n",
    "count = np.array([m])\n",
    "nobs = np.array([n])\n",
    "z_obs, pval = proportions_ztest(count, nobs, value=0.5, alternative='two-sided')\n"
   ]
  },
  {
   "cell_type": "code",
   "execution_count": null,
   "metadata": {
    "deletable": false,
    "editable": false,
    "nbgrader": {
     "cell_type": "code",
     "checksum": "6afd2f5b522bf443507836a8f3bb9378",
     "grade": true,
     "grade_id": "cell-0e69143702359946",
     "locked": true,
     "points": 1,
     "schema_version": 3,
     "solution": false,
     "task": false
    }
   },
   "outputs": [],
   "source": [
    "# проверка того, что задание решено верно\n",
    "assert np.abs(z_obs - 0.70799) < 1e-5\n",
    "\n",
    "# другие подобные тесты скрыты от вас "
   ]
  },
  {
   "cell_type": "markdown",
   "metadata": {},
   "source": [
    "  "
   ]
  }
 ],
 "metadata": {
  "kernelspec": {
   "display_name": "Python 3",
   "language": "python",
   "name": "python3"
  },
  "language_info": {
   "codemirror_mode": {
    "name": "ipython",
    "version": 3
   },
   "file_extension": ".py",
   "mimetype": "text/x-python",
   "name": "python",
   "nbconvert_exporter": "python",
   "pygments_lexer": "ipython3",
   "version": "3.9.0"
  }
 },
 "nbformat": 4,
 "nbformat_minor": 2
}
